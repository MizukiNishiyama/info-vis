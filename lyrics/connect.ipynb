{
 "cells": [
  {
   "cell_type": "code",
   "execution_count": 2,
   "metadata": {},
   "outputs": [],
   "source": [
    "# 必要なモジュールをインポート\n",
    "import pandas as pd\n",
    "import ast\n",
    "\n",
    "# CSVファイルを読み込む関数\n",
    "def load_csv(file_path: str):\n",
    "    \"\"\"\n",
    "    指定されたCSVファイルを読み込む。\n",
    "    \"\"\"\n",
    "    return pd.read_csv(file_path)\n",
    "\n",
    "# アーティスト名をIDから検索する関数\n",
    "def map_artist_ids_to_names(artist_ids, all_rappers_df):\n",
    "    \"\"\"\n",
    "    アーティストIDリストをアーティスト名にマッピングする。\n",
    "\n",
    "    Args:\n",
    "        artist_ids (str): アーティストIDリスト (文字列形式)\n",
    "        all_rappers_df (DataFrame): アーティスト情報のDataFrame\n",
    "    \n",
    "    Returns:\n",
    "        str: カンマ区切りのアーティスト名\n",
    "    \"\"\"\n",
    "    # アーティストIDをリストに変換\n",
    "    artist_ids_list = ast.literal_eval(artist_ids)\n",
    "    # IDに基づいて名前を取得\n",
    "    names = [\n",
    "        all_rappers_df.loc[all_rappers_df['id'] == artist_id, 'name'].values[0]\n",
    "        for artist_id in artist_ids_list\n",
    "        if artist_id in all_rappers_df['id'].values\n",
    "    ]\n",
    "    return \", \".join(names)\n",
    "\n",
    "# データを統合して新しいCSVを作成する関数\n",
    "def create_tracks_with_artist_names(tracks_file: str, rappers_file: str, output_file: str):\n",
    "    \"\"\"\n",
    "    トラック情報とアーティスト情報を統合し、新しいCSVを作成する。\n",
    "\n",
    "    Args:\n",
    "        tracks_file (str): トラック情報のCSVファイル\n",
    "        rappers_file (str): アーティスト情報のCSVファイル\n",
    "        output_file (str): 出力先のCSVファイル名\n",
    "    \"\"\"\n",
    "    # CSVファイルを読み込む\n",
    "    tracks_df = load_csv(tracks_file)\n",
    "    all_rappers_df = load_csv(rappers_file)\n",
    "    \n",
    "    # 必要な列をフィルタリング\n",
    "    tracks_df['artist_names'] = tracks_df['artist_ids'].apply(\n",
    "        lambda ids: map_artist_ids_to_names(ids, all_rappers_df)\n",
    "    )\n",
    "    \n",
    "    # 必要な列だけを抽出\n",
    "    result_df = tracks_df[['track_id', 'track_name', 'artist_names']]\n",
    "    \n",
    "    # 新しいCSVを保存\n",
    "    result_df.to_csv(output_file, index=False, encoding='utf-8')\n",
    "    print(f\"データが '{output_file}' に保存されました。\")\n",
    "\n",
    "\n"
   ]
  },
  {
   "cell_type": "code",
   "execution_count": 3,
   "metadata": {},
   "outputs": [
    {
     "name": "stdout",
     "output_type": "stream",
     "text": [
      "データが './output/output_tracks.csv' に保存されました。\n"
     ]
    }
   ],
   "source": [
    "# 使用例\n",
    "# 変数にファイル名を指定\n",
    "tracks_csv = \"./wrapper_data/tracks.csv\"\n",
    "all_rappers_csv = \"./wrapper_data/all_rappers.csv\"\n",
    "output_csv = \"./output/output_tracks.csv\"\n",
    "\n",
    "# 関数を実行\n",
    "create_tracks_with_artist_names(tracks_csv, all_rappers_csv, output_csv)"
   ]
  },
  {
   "cell_type": "code",
   "execution_count": null,
   "metadata": {},
   "outputs": [],
   "source": []
  },
  {
   "cell_type": "markdown",
   "metadata": {},
   "source": [
    "# 歌詞取得"
   ]
  },
  {
   "cell_type": "code",
   "execution_count": null,
   "metadata": {},
   "outputs": [],
   "source": [
    "# output_tracks.csv を読み込む関数\n",
    "from get import fetch_lyrics_and_save_to_csv\n",
    "\n",
    "\n",
    "def get_lyrics_from_output_csv(output_csv: str, token: str, lyrics_output_file: str):\n",
    "    \"\"\"\n",
    "    output_tracks.csv のデータから track_name と最初の artist_name を使用して歌詞を取得。\n",
    "\n",
    "    Args:\n",
    "        output_csv (str): 入力元の CSV ファイル (output_tracks.csv)\n",
    "        token (str): Genius API のトークン\n",
    "        lyrics_output_file (str): 出力先の CSV ファイル名\n",
    "    \"\"\"\n",
    "    # CSVデータを読み込む\n",
    "    tracks_df = pd.read_csv(output_csv)\n",
    "\n",
    "    # track_name と最初の artist_name を取得\n",
    "    for _, row in tracks_df.iterrows():\n",
    "        track_name = row['track_name']\n",
    "        artist_names = row['artist_names']\n",
    "\n",
    "        # 最初のアーティスト名を取得 (カンマ区切りで複数の場合)\n",
    "        first_artist = artist_names.split(\",\")[0].strip()\n",
    "\n",
    "        # 歌詞を取得して保存\n",
    "        fetch_lyrics_and_save_to_csv(first_artist, track_name, token, lyrics_output_file)\n",
    "\n",
    "# 使用例\n",
    "# Genius API トークンを設定\n",
    "genius_token = \"your_genius_api_token\"  # 適切なトークンを入力してください\n",
    "\n",
    "# 関数を実行\n",
    "get_lyrics_from_output_csv(\"output_tracks.csv\", genius_token, \"lyrics_output.csv\")"
   ]
  },
  {
   "cell_type": "markdown",
   "metadata": {},
   "source": [
    "# ファイル分割"
   ]
  },
  {
   "cell_type": "code",
   "execution_count": 1,
   "metadata": {},
   "outputs": [
    {
     "name": "stdout",
     "output_type": "stream",
     "text": [
      "ファイル ./output/split_csv_files/tracks_rapper_part1.csv を作成しました。\n",
      "ファイル ./output/split_csv_files/tracks_rapper_part2.csv を作成しました。\n",
      "ファイル ./output/split_csv_files/tracks_rapper_part3.csv を作成しました。\n",
      "ファイル ./output/split_csv_files/tracks_rapper_part4.csv を作成しました。\n",
      "ファイル ./output/split_csv_files/tracks_rapper_part5.csv を作成しました。\n",
      "ファイル ./output/split_csv_files/tracks_rapper_part6.csv を作成しました。\n",
      "ファイル ./output/split_csv_files/tracks_rapper_part7.csv を作成しました。\n",
      "ファイル ./output/split_csv_files/tracks_rapper_part8.csv を作成しました。\n",
      "ファイル ./output/split_csv_files/tracks_rapper_part9.csv を作成しました。\n",
      "ファイル ./output/split_csv_files/tracks_rapper_part10.csv を作成しました。\n",
      "CSVファイルの分割が完了しました。\n"
     ]
    }
   ],
   "source": [
    "import pandas as pd\n",
    "import math\n",
    "import os\n",
    "\n",
    "# 元のCSVファイルのパス\n",
    "input_file = './wrapper_data/tracks_rapper.csv'\n",
    "\n",
    "# 分割後のファイルを保存するディレクトリ（存在しない場合は作成）\n",
    "output_dir = './output/split_csv_files'\n",
    "os.makedirs(output_dir, exist_ok=True)\n",
    "\n",
    "# 分割する行数\n",
    "chunksize = 1000\n",
    "\n",
    "# CSVファイルをチャンクごとに読み込み\n",
    "try:\n",
    "    # チャンクごとに処理\n",
    "    for i, chunk in enumerate(pd.read_csv(input_file, chunksize=chunksize), 1):\n",
    "        output_file = os.path.join(output_dir, f'tracks_rapper_part{i}.csv')\n",
    "        chunk.to_csv(output_file, index=False)\n",
    "        print(f'ファイル {output_file} を作成しました。')\n",
    "    \n",
    "    print('CSVファイルの分割が完了しました。')\n",
    "\n",
    "except FileNotFoundError:\n",
    "    print(f'エラー: ファイル {input_file} が見つかりません。ファイル名とパスを確認してください。')\n",
    "except pd.errors.EmptyDataError:\n",
    "    print('エラー: 空のデータが提供されました。CSVファイルの内容を確認してください。')\n",
    "except Exception as e:\n",
    "    print(f'予期しないエラーが発生しました: {e}')\n"
   ]
  },
  {
   "cell_type": "markdown",
   "metadata": {},
   "source": []
  },
  {
   "cell_type": "code",
   "execution_count": null,
   "metadata": {},
   "outputs": [],
   "source": []
  }
 ],
 "metadata": {
  "kernelspec": {
   "display_name": "Python 3",
   "language": "python",
   "name": "python3"
  },
  "language_info": {
   "codemirror_mode": {
    "name": "ipython",
    "version": 3
   },
   "file_extension": ".py",
   "mimetype": "text/x-python",
   "name": "python",
   "nbconvert_exporter": "python",
   "pygments_lexer": "ipython3",
   "version": "3.13.0"
  }
 },
 "nbformat": 4,
 "nbformat_minor": 2
}
